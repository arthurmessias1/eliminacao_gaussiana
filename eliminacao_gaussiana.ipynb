{
  "cells": [
    {
      "cell_type": "markdown",
      "metadata": {
        "id": "ULnOKOj7_-yv"
      },
      "source": [
        "# Alterara a eliminação Gaussiana para utilizar uma matriz triangular inferior\n",
        "# Eliminação gaussiana sem pivoteamento"
      ]
    },
    {
      "cell_type": "markdown",
      "metadata": {
        "id": "l_b6DBWS_-yz"
      },
      "source": []
    },
    {
      "cell_type": "code",
      "execution_count": null,
      "metadata": {
        "id": "_h7t8NqU_-yz"
      },
      "outputs": [],
      "source": [
        "import numpy as np\n",
        "import pandas as pd # utilizado apenas na impressão de algumas matrizes"
      ]
    },
    {
      "cell_type": "markdown",
      "metadata": {
        "id": "4X1WDD4S_-y1"
      },
      "source": [
        "1. **Inicialize uma matriz A de dimensão $3\\times 3$ e uma matriz $b$ de dimensão $3 \\times 1$ com números aleatórios.**"
      ]
    },
    {
      "cell_type": "code",
      "execution_count": null,
      "metadata": {
        "id": "YEUVrAWU_-y1"
      },
      "outputs": [],
      "source": [
        "# np.random.seed(2)\n",
        "\n",
        "A = np.array([[3, 2, 7], [-6, 5, 1], [3, 11, -1]])\n",
        "b = np.array([[8], [-10], [-9]])"
      ]
    },
    {
      "cell_type": "markdown",
      "metadata": {
        "id": "Y9TzyvQp_-y1"
      },
      "source": [
        "Vamos utilizar a eliminação gaussiana para determinar $x$, de modo que $Ax = b$. O python será utilizado como uma calculadora. Para preserver as matrizes `A` e `b` vamos cópias `copia_A` e `copia_b`."
      ]
    },
    {
      "cell_type": "code",
      "execution_count": null,
      "metadata": {
        "colab": {
          "base_uri": "https://localhost:8080/"
        },
        "id": "KshAuZVw_-y2",
        "outputId": "e7912bee-aacf-4438-db7f-58fd5bbabdde"
      },
      "outputs": [
        {
          "name": "stdout",
          "output_type": "stream",
          "text": [
            "[[ 3  2  7]\n",
            " [-6  5  1]\n",
            " [ 3 11 -1]]\n"
          ]
        }
      ],
      "source": [
        "copia_A = np.copy(A)\n",
        "copia_b = np.copy(b)\n",
        "print(A)"
      ]
    },
    {
      "cell_type": "code",
      "execution_count": null,
      "metadata": {
        "colab": {
          "base_uri": "https://localhost:8080/"
        },
        "id": "fPU7nYGJ_-y2",
        "outputId": "81d97f8a-bd6d-4ee6-e560-25a275334ad4"
      },
      "outputs": [
        {
          "name": "stdout",
          "output_type": "stream",
          "text": [
            "[[  8]\n",
            " [-10]\n",
            " [ -9]]\n"
          ]
        }
      ],
      "source": [
        "print(b)"
      ]
    },
    {
      "cell_type": "markdown",
      "metadata": {
        "id": "HhRzr6bf_-y3"
      },
      "source": [
        "**2. Qual o valor do primeiro multiplicador? Não utilize os números e sim referências a matriz.**"
      ]
    },
    {
      "cell_type": "code",
      "execution_count": null,
      "metadata": {
        "id": "CHWTSIIU_-y4"
      },
      "outputs": [],
      "source": [
        "pivo = A[0, 0]\n",
        "m = -A[1, 0] / pivo"
      ]
    },
    {
      "cell_type": "markdown",
      "metadata": {
        "id": "e-C4oDTc_-y4"
      },
      "source": [
        "Adicione $m \\cdot linha0$ a $linha 1$."
      ]
    },
    {
      "cell_type": "code",
      "execution_count": null,
      "metadata": {
        "id": "hNRZZ3Iy_-y4"
      },
      "outputs": [],
      "source": [
        "A[1] = A[1] + m * A[0]\n",
        "b[1] = b[1] + m * b[0]"
      ]
    },
    {
      "cell_type": "code",
      "execution_count": null,
      "metadata": {
        "colab": {
          "base_uri": "https://localhost:8080/"
        },
        "id": "odfjDjF9_-y5",
        "outputId": "516b79d6-7102-49d1-9ebb-1ce898d2fac8"
      },
      "outputs": [
        {
          "name": "stdout",
          "output_type": "stream",
          "text": [
            "[[ 3  2  7]\n",
            " [ 0  9 15]\n",
            " [ 3 11 -1]]\n",
            "\n",
            "[[ 8]\n",
            " [ 6]\n",
            " [-9]]\n"
          ]
        }
      ],
      "source": [
        "# Se sua resposta estiver certa A[1,0] será = 0\n",
        "print(A)\n",
        "print()\n",
        "print(b)\n"
      ]
    },
    {
      "cell_type": "markdown",
      "metadata": {
        "id": "bvP7UiSj_-y5"
      },
      "source": [
        "**3. Determine o próximo multiplicador? E atualize a linha 2 das matrizes A e b.**"
      ]
    },
    {
      "cell_type": "code",
      "execution_count": null,
      "metadata": {
        "id": "bHTXum30_-y5"
      },
      "outputs": [],
      "source": [
        "m = - A[2, 0] / pivo\n",
        "A[2] = A[2] + m * A[0]\n",
        "b[2] = b[2] + m * b[0]"
      ]
    },
    {
      "cell_type": "code",
      "execution_count": null,
      "metadata": {
        "colab": {
          "base_uri": "https://localhost:8080/"
        },
        "id": "g52c4YPl_-y6",
        "outputId": "832e20c6-0d2e-46c8-f550-95bb6837d766"
      },
      "outputs": [
        {
          "name": "stdout",
          "output_type": "stream",
          "text": [
            "[[ 3  2  7]\n",
            " [ 0  9 15]\n",
            " [ 0  9 -8]]\n",
            "\n",
            "[[  8]\n",
            " [  6]\n",
            " [-17]]\n"
          ]
        }
      ],
      "source": [
        "# Sua resposta está correta? \n",
        "print(A)\n",
        "print()\n",
        "print(b)"
      ]
    },
    {
      "cell_type": "markdown",
      "metadata": {
        "id": "zuTxe5qM_-y6"
      },
      "source": [
        "**4. O trabalho com a primeira coluna está finalizado. Determine o próximo pivô.**"
      ]
    },
    {
      "cell_type": "code",
      "execution_count": null,
      "metadata": {
        "id": "U4UOk8Dj_-y6"
      },
      "outputs": [],
      "source": [
        "pivo = A[1, 1]"
      ]
    },
    {
      "cell_type": "markdown",
      "metadata": {
        "id": "V__J4DQO_-y6"
      },
      "source": [
        "**5. Determine o próximo multiplicador e atualize a linha 2.**"
      ]
    },
    {
      "cell_type": "code",
      "execution_count": null,
      "metadata": {
        "id": "m0eidYs6_-y7"
      },
      "outputs": [],
      "source": [
        "m = - A[2, 1] / pivo\n",
        "A[2] = A[2] + m * A[1]\n",
        "b[2] = b[2] + m * b[1]"
      ]
    },
    {
      "cell_type": "code",
      "execution_count": null,
      "metadata": {
        "colab": {
          "base_uri": "https://localhost:8080/"
        },
        "id": "c_VfenTQ_-y7",
        "outputId": "b87336c2-953c-418e-8efc-779c16541eb9"
      },
      "outputs": [
        {
          "name": "stdout",
          "output_type": "stream",
          "text": [
            "A= \n",
            " [[ 0.13457995  0.51357812  0.18443987]\n",
            " [ 0.         -2.14298647 -0.58205361]\n",
            " [ 0.          0.          0.20087526]]\n",
            "\n",
            "b= \n",
            " [[ 0.0652865 ]\n",
            " [ 0.0471459 ]\n",
            " [-0.38346875]]\n"
          ]
        }
      ],
      "source": [
        "print('A= \\n', A)\n",
        "print()\n",
        "print('b= \\n', b)"
      ]
    },
    {
      "cell_type": "markdown",
      "metadata": {
        "id": "UvgZP6J9_-y7"
      },
      "source": [
        "Agora a matriz A está em um formato triangular superior e precisamos determinar os valores de `x[0]`, `x[1]` e `x[2]`."
      ]
    },
    {
      "cell_type": "code",
      "execution_count": null,
      "metadata": {
        "id": "zpMvTPIC_-y7"
      },
      "outputs": [],
      "source": [
        "x = np.zeros(3, dtype=float)"
      ]
    },
    {
      "cell_type": "code",
      "execution_count": null,
      "metadata": {
        "colab": {
          "base_uri": "https://localhost:8080/"
        },
        "id": "x9tROG1o_-y8",
        "outputId": "e81c91c4-4954-462f-af7f-8b2e9010ca8b"
      },
      "outputs": [
        {
          "data": {
            "text/plain": [
              "array([0, 0, 0])"
            ]
          },
          "execution_count": 79,
          "metadata": {},
          "output_type": "execute_result"
        }
      ],
      "source": [
        "x"
      ]
    },
    {
      "cell_type": "markdown",
      "metadata": {
        "id": "BYxpr8-P_-y8"
      },
      "source": [
        "**6. Determine o valor de `x[2]`.**"
      ]
    },
    {
      "cell_type": "code",
      "execution_count": null,
      "metadata": {
        "colab": {
          "base_uri": "https://localhost:8080/"
        },
        "id": "WoBMezfZ_-y8",
        "outputId": "17210b6f-9e04-48ba-9b96-ab1fe09b1487"
      },
      "outputs": [
        {
          "data": {
            "text/plain": [
              "2"
            ]
          },
          "execution_count": 80,
          "metadata": {},
          "output_type": "execute_result"
        }
      ],
      "source": [
        "x[2] = b[2] / A[2, 2]\n",
        "x[2]"
      ]
    },
    {
      "cell_type": "markdown",
      "metadata": {
        "id": "AQy6LhRe_-y8"
      },
      "source": [
        "**7. Determine o valor de `x[1]`.**"
      ]
    },
    {
      "cell_type": "code",
      "execution_count": null,
      "metadata": {
        "id": "0tXWXIct_-y8"
      },
      "outputs": [],
      "source": [
        "x[1] = (b[1] - A[1, 2] * x[2]) / A[1, 1]"
      ]
    },
    {
      "cell_type": "markdown",
      "metadata": {
        "id": "1mInoAIz_-y8"
      },
      "source": [
        "**8. Determine o valor de x[0].**"
      ]
    },
    {
      "cell_type": "code",
      "execution_count": null,
      "metadata": {
        "colab": {
          "base_uri": "https://localhost:8080/"
        },
        "id": "zJI6v4Kb_-y8",
        "outputId": "12ecb003-2b22-413b-b42b-f36a0d179923"
      },
      "outputs": [
        {
          "data": {
            "text/plain": [
              "array([ 1.20664189,  0.4964979 , -1.90898943])"
            ]
          },
          "execution_count": 48,
          "metadata": {},
          "output_type": "execute_result"
        }
      ],
      "source": [
        "x[0] = (b[0] - A[0, 1] * x[1] - A[0, 2] * x[2]) / A[0, 0]\n",
        "x"
      ]
    },
    {
      "cell_type": "markdown",
      "metadata": {
        "id": "jUUQD3f2_-y9"
      },
      "source": [
        "Verificando o resultado"
      ]
    },
    {
      "cell_type": "code",
      "execution_count": null,
      "metadata": {
        "colab": {
          "base_uri": "https://localhost:8080/"
        },
        "id": "0zj_E5lB_-y9",
        "outputId": "2ae50b06-e1b7-4411-9965-230c8bcd3108"
      },
      "outputs": [
        {
          "data": {
            "text/plain": [
              "array([0.0652865 , 0.42812233, 0.09653092])"
            ]
          },
          "execution_count": 49,
          "metadata": {},
          "output_type": "execute_result"
        }
      ],
      "source": [
        "copia_A @ x"
      ]
    },
    {
      "cell_type": "code",
      "execution_count": null,
      "metadata": {
        "colab": {
          "base_uri": "https://localhost:8080/"
        },
        "id": "ElPMtju3_-y9",
        "outputId": "4673093d-5470-40b8-ea4c-f0ecd2ce8087"
      },
      "outputs": [
        {
          "data": {
            "text/plain": [
              "array([[0.0652865 ],\n",
              "       [0.42812233],\n",
              "       [0.09653092]])"
            ]
          },
          "execution_count": 50,
          "metadata": {},
          "output_type": "execute_result"
        }
      ],
      "source": [
        "copia_b"
      ]
    },
    {
      "cell_type": "markdown",
      "metadata": {
        "id": "pdNQRnlG_-y9"
      },
      "source": [
        "**9. Combine o código que você escreveu até agora para resolver sistemas lineares com 3 equações e 3 incógnitas.**"
      ]
    },
    {
      "cell_type": "code",
      "execution_count": null,
      "metadata": {
        "id": "dWTm3L7v_-y9"
      },
      "outputs": [],
      "source": [
        "def eliminacao_gaussiana_3(matriz_coeficientes, termos_independentes):\n",
        "    '''\n",
        "    matriz_coeficientes é uma matriz 3 por 3\n",
        "    termos_independentes é uma matriz 3 por 1\n",
        "    Não será necessário realizar pivoteamento, se o pivo for igual a zero ocorrerá um erro (divisão por zero)\n",
        "    '''\n",
        "    A = np.copy(matriz_coeficientes)\n",
        "    b = np.copy(termos_independentes)\n",
        "    \n",
        "    # seu código aqui\n",
        "    pivo = A[0, 0]\n",
        "    \n",
        "    m = -A[1, 0] / pivo\n",
        "    A[1] = A[1] + m * A[0]\n",
        "    b[1] = b[1] + m * b[0]\n",
        "\n",
        "    m = - A[2, 0] / pivo\n",
        "    A[2] = A[2] + m * A[0]\n",
        "    b[2] = b[2] + m * b[0]\n",
        "\n",
        "    pivo = A[1, 1]\n",
        "    m = - A[2, 1] / pivo\n",
        "    A[2] = A[2] + m * A[1]\n",
        "    b[2] = b[2] + m * b[1]\n",
        "\n",
        "    x = np.zeros(3)\n",
        "    x[2] = b[2] / A[2, 2]\n",
        "    x[1] = (b[1] - A[1, 2] * x[2]) / A[1, 1]\n",
        "    x[0] = (b[0] - A[0, 1] * x[1] - A[0, 2] * x[2]) / A[0, 0]\n",
        "    \n",
        "    return x"
      ]
    },
    {
      "cell_type": "code",
      "execution_count": null,
      "metadata": {
        "id": "_i-vEvCu_-y-"
      },
      "outputs": [],
      "source": [
        "A1 = np.random.rand(3, 3)\n",
        "b1 = np.random.rand(3, 1) "
      ]
    },
    {
      "cell_type": "code",
      "execution_count": null,
      "metadata": {
        "id": "ooxxDOqw_-y-"
      },
      "outputs": [],
      "source": [
        "x = eliminacao_gaussiana_3(A1, b1)"
      ]
    },
    {
      "cell_type": "code",
      "execution_count": null,
      "metadata": {
        "colab": {
          "base_uri": "https://localhost:8080/"
        },
        "id": "y62GY5cG_-y-",
        "outputId": "9b994370-8781-4f72-e6b5-d7c932044817"
      },
      "outputs": [
        {
          "name": "stdout",
          "output_type": "stream",
          "text": [
            "b1 =  [[0.48306984]\n",
            " [0.50523672]\n",
            " [0.38689265]]\n",
            "y  =  [0.48306984 0.50523672 0.38689265]\n"
          ]
        }
      ],
      "source": [
        "y = A1 @ x\n",
        "print('b1 = ', b1)\n",
        "print('y  = ', y)"
      ]
    },
    {
      "cell_type": "markdown",
      "metadata": {
        "id": "6ExB85Iz_-y-"
      },
      "source": [
        "Agora vamos inicializar uma matriz A com dimensão $5 \\times 5$ e uma matriz $b$ com dimensão $5 \\times 1$."
      ]
    },
    {
      "cell_type": "code",
      "execution_count": null,
      "metadata": {
        "id": "0aPTtN_3_-y-"
      },
      "outputs": [],
      "source": [
        "A = np.random.rand(5, 5)\n",
        "b = np.random.rand(5, 1)"
      ]
    },
    {
      "cell_type": "code",
      "execution_count": null,
      "metadata": {
        "colab": {
          "base_uri": "https://localhost:8080/"
        },
        "id": "7p4GlOoP_-y-",
        "outputId": "50bb63fa-216d-4951-c6da-be674c9a45da"
      },
      "outputs": [
        {
          "name": "stdout",
          "output_type": "stream",
          "text": [
            "[[0.54790778 0.69952062 0.24581116 0.18662715 0.11058315]\n",
            " [0.27405925 0.01025004 0.62935972 0.29517231 0.18728654]\n",
            " [0.09528805 0.28375581 0.21492438 0.28560373 0.47140986]\n",
            " [0.54949682 0.84511312 0.9885097  0.04886809 0.23211825]\n",
            " [0.64331143 0.16146656 0.87014589 0.21740243 0.74175504]]\n"
          ]
        }
      ],
      "source": [
        "print(A)"
      ]
    },
    {
      "cell_type": "markdown",
      "metadata": {
        "id": "39kur2u4_-y_"
      },
      "source": [
        "**10. Realize operações sobre linhas para zerar os valores abaixo do pivô.**"
      ]
    },
    {
      "cell_type": "code",
      "execution_count": null,
      "metadata": {
        "id": "QFI7i61D_-y_"
      },
      "outputs": [],
      "source": [
        "pivo = A[0 , 0]\n",
        "\n",
        "for k in range(1, 5):\n",
        "  m = - A[k ,0] / pivo\n",
        "  A[k] = A[k] + m * A[0]\n",
        "  b[k] = b[k] + m * b[0]"
      ]
    },
    {
      "cell_type": "code",
      "execution_count": null,
      "metadata": {
        "colab": {
          "base_uri": "https://localhost:8080/",
          "height": 206
        },
        "id": "eNXBz4f4_-y_",
        "outputId": "c1b90fc2-5064-4abf-d00d-a898e97f555c"
      },
      "outputs": [
        {
          "data": {
            "text/html": [
              "\n",
              "  <div id=\"df-bfac8518-98c8-4fb2-96fe-2d73e02f0e0a\">\n",
              "    <div class=\"colab-df-container\">\n",
              "      <div>\n",
              "<style scoped>\n",
              "    .dataframe tbody tr th:only-of-type {\n",
              "        vertical-align: middle;\n",
              "    }\n",
              "\n",
              "    .dataframe tbody tr th {\n",
              "        vertical-align: top;\n",
              "    }\n",
              "\n",
              "    .dataframe thead th {\n",
              "        text-align: right;\n",
              "    }\n",
              "</style>\n",
              "<table border=\"1\" class=\"dataframe\">\n",
              "  <thead>\n",
              "    <tr style=\"text-align: right;\">\n",
              "      <th></th>\n",
              "      <th>0</th>\n",
              "      <th>1</th>\n",
              "      <th>2</th>\n",
              "      <th>3</th>\n",
              "      <th>4</th>\n",
              "    </tr>\n",
              "  </thead>\n",
              "  <tbody>\n",
              "    <tr>\n",
              "      <th>0</th>\n",
              "      <td>0.547908</td>\n",
              "      <td>0.699521</td>\n",
              "      <td>0.245811</td>\n",
              "      <td>0.186627</td>\n",
              "      <td>0.110583</td>\n",
              "    </tr>\n",
              "    <tr>\n",
              "      <th>1</th>\n",
              "      <td>0.000000</td>\n",
              "      <td>-0.339645</td>\n",
              "      <td>0.506407</td>\n",
              "      <td>0.201823</td>\n",
              "      <td>0.131974</td>\n",
              "    </tr>\n",
              "    <tr>\n",
              "      <th>2</th>\n",
              "      <td>0.000000</td>\n",
              "      <td>0.162100</td>\n",
              "      <td>0.172175</td>\n",
              "      <td>0.253147</td>\n",
              "      <td>0.452178</td>\n",
              "    </tr>\n",
              "    <tr>\n",
              "      <th>3</th>\n",
              "      <td>0.000000</td>\n",
              "      <td>0.143564</td>\n",
              "      <td>0.741986</td>\n",
              "      <td>-0.138300</td>\n",
              "      <td>0.121214</td>\n",
              "    </tr>\n",
              "    <tr>\n",
              "      <th>4</th>\n",
              "      <td>0.000000</td>\n",
              "      <td>-0.659857</td>\n",
              "      <td>0.581533</td>\n",
              "      <td>-0.001721</td>\n",
              "      <td>0.611917</td>\n",
              "    </tr>\n",
              "  </tbody>\n",
              "</table>\n",
              "</div>\n",
              "      <button class=\"colab-df-convert\" onclick=\"convertToInteractive('df-bfac8518-98c8-4fb2-96fe-2d73e02f0e0a')\"\n",
              "              title=\"Convert this dataframe to an interactive table.\"\n",
              "              style=\"display:none;\">\n",
              "        \n",
              "  <svg xmlns=\"http://www.w3.org/2000/svg\" height=\"24px\"viewBox=\"0 0 24 24\"\n",
              "       width=\"24px\">\n",
              "    <path d=\"M0 0h24v24H0V0z\" fill=\"none\"/>\n",
              "    <path d=\"M18.56 5.44l.94 2.06.94-2.06 2.06-.94-2.06-.94-.94-2.06-.94 2.06-2.06.94zm-11 1L8.5 8.5l.94-2.06 2.06-.94-2.06-.94L8.5 2.5l-.94 2.06-2.06.94zm10 10l.94 2.06.94-2.06 2.06-.94-2.06-.94-.94-2.06-.94 2.06-2.06.94z\"/><path d=\"M17.41 7.96l-1.37-1.37c-.4-.4-.92-.59-1.43-.59-.52 0-1.04.2-1.43.59L10.3 9.45l-7.72 7.72c-.78.78-.78 2.05 0 2.83L4 21.41c.39.39.9.59 1.41.59.51 0 1.02-.2 1.41-.59l7.78-7.78 2.81-2.81c.8-.78.8-2.07 0-2.86zM5.41 20L4 18.59l7.72-7.72 1.47 1.35L5.41 20z\"/>\n",
              "  </svg>\n",
              "      </button>\n",
              "      \n",
              "  <style>\n",
              "    .colab-df-container {\n",
              "      display:flex;\n",
              "      flex-wrap:wrap;\n",
              "      gap: 12px;\n",
              "    }\n",
              "\n",
              "    .colab-df-convert {\n",
              "      background-color: #E8F0FE;\n",
              "      border: none;\n",
              "      border-radius: 50%;\n",
              "      cursor: pointer;\n",
              "      display: none;\n",
              "      fill: #1967D2;\n",
              "      height: 32px;\n",
              "      padding: 0 0 0 0;\n",
              "      width: 32px;\n",
              "    }\n",
              "\n",
              "    .colab-df-convert:hover {\n",
              "      background-color: #E2EBFA;\n",
              "      box-shadow: 0px 1px 2px rgba(60, 64, 67, 0.3), 0px 1px 3px 1px rgba(60, 64, 67, 0.15);\n",
              "      fill: #174EA6;\n",
              "    }\n",
              "\n",
              "    [theme=dark] .colab-df-convert {\n",
              "      background-color: #3B4455;\n",
              "      fill: #D2E3FC;\n",
              "    }\n",
              "\n",
              "    [theme=dark] .colab-df-convert:hover {\n",
              "      background-color: #434B5C;\n",
              "      box-shadow: 0px 1px 3px 1px rgba(0, 0, 0, 0.15);\n",
              "      filter: drop-shadow(0px 1px 2px rgba(0, 0, 0, 0.3));\n",
              "      fill: #FFFFFF;\n",
              "    }\n",
              "  </style>\n",
              "\n",
              "      <script>\n",
              "        const buttonEl =\n",
              "          document.querySelector('#df-bfac8518-98c8-4fb2-96fe-2d73e02f0e0a button.colab-df-convert');\n",
              "        buttonEl.style.display =\n",
              "          google.colab.kernel.accessAllowed ? 'block' : 'none';\n",
              "\n",
              "        async function convertToInteractive(key) {\n",
              "          const element = document.querySelector('#df-bfac8518-98c8-4fb2-96fe-2d73e02f0e0a');\n",
              "          const dataTable =\n",
              "            await google.colab.kernel.invokeFunction('convertToInteractive',\n",
              "                                                     [key], {});\n",
              "          if (!dataTable) return;\n",
              "\n",
              "          const docLinkHtml = 'Like what you see? Visit the ' +\n",
              "            '<a target=\"_blank\" href=https://colab.research.google.com/notebooks/data_table.ipynb>data table notebook</a>'\n",
              "            + ' to learn more about interactive tables.';\n",
              "          element.innerHTML = '';\n",
              "          dataTable['output_type'] = 'display_data';\n",
              "          await google.colab.output.renderOutput(dataTable, element);\n",
              "          const docLink = document.createElement('div');\n",
              "          docLink.innerHTML = docLinkHtml;\n",
              "          element.appendChild(docLink);\n",
              "        }\n",
              "      </script>\n",
              "    </div>\n",
              "  </div>\n",
              "  "
            ],
            "text/plain": [
              "          0         1         2         3         4\n",
              "0  0.547908  0.699521  0.245811  0.186627  0.110583\n",
              "1  0.000000 -0.339645  0.506407  0.201823  0.131974\n",
              "2  0.000000  0.162100  0.172175  0.253147  0.452178\n",
              "3  0.000000  0.143564  0.741986 -0.138300  0.121214\n",
              "4  0.000000 -0.659857  0.581533 -0.001721  0.611917"
            ]
          },
          "execution_count": 93,
          "metadata": {},
          "output_type": "execute_result"
        }
      ],
      "source": [
        "pd.DataFrame(A)"
      ]
    },
    {
      "cell_type": "markdown",
      "metadata": {
        "id": "tdn-G9ML_-y_"
      },
      "source": [
        "Agora vamos inicializar uma matriz A com dimensão $10 \\times 10$ e uma matriz $b$ com dimensão $10 \\times 1$."
      ]
    },
    {
      "cell_type": "code",
      "execution_count": null,
      "metadata": {
        "id": "FId0-thJ_-y_"
      },
      "outputs": [],
      "source": [
        "A = np.random.rand(10, 10)\n",
        "b = np.random.rand(10, 1)"
      ]
    },
    {
      "cell_type": "markdown",
      "metadata": {
        "id": "WxxGWyiT_-y_"
      },
      "source": [
        "**11. Escreva um código para zerar os elementos abaixo do pivô da coluna 0**"
      ]
    },
    {
      "cell_type": "code",
      "execution_count": null,
      "metadata": {
        "id": "AnrfHefg_-y_"
      },
      "outputs": [],
      "source": [
        "pivo = A[0 , 0]\n",
        "\n",
        "for k in range(1, 10):\n",
        "    m = - A[k ,0] / pivo\n",
        "    A[k] = A[k] + m * A[0]\n",
        "    b[k] = b[k] + m * b[0]\n",
        "    A[k, 0] = 0"
      ]
    },
    {
      "cell_type": "code",
      "execution_count": null,
      "metadata": {
        "colab": {
          "base_uri": "https://localhost:8080/",
          "height": 363
        },
        "id": "-nvUekdM_-zA",
        "outputId": "386d5b80-95ba-4853-81ef-5e65452c041c"
      },
      "outputs": [
        {
          "data": {
            "text/html": [
              "\n",
              "  <div id=\"df-88f942b2-33ad-4385-843e-58cc8573a9c3\">\n",
              "    <div class=\"colab-df-container\">\n",
              "      <div>\n",
              "<style scoped>\n",
              "    .dataframe tbody tr th:only-of-type {\n",
              "        vertical-align: middle;\n",
              "    }\n",
              "\n",
              "    .dataframe tbody tr th {\n",
              "        vertical-align: top;\n",
              "    }\n",
              "\n",
              "    .dataframe thead th {\n",
              "        text-align: right;\n",
              "    }\n",
              "</style>\n",
              "<table border=\"1\" class=\"dataframe\">\n",
              "  <thead>\n",
              "    <tr style=\"text-align: right;\">\n",
              "      <th></th>\n",
              "      <th>0</th>\n",
              "      <th>1</th>\n",
              "      <th>2</th>\n",
              "      <th>3</th>\n",
              "      <th>4</th>\n",
              "      <th>5</th>\n",
              "      <th>6</th>\n",
              "      <th>7</th>\n",
              "      <th>8</th>\n",
              "      <th>9</th>\n",
              "    </tr>\n",
              "  </thead>\n",
              "  <tbody>\n",
              "    <tr>\n",
              "      <th>0</th>\n",
              "      <td>0.641812</td>\n",
              "      <td>0.087379</td>\n",
              "      <td>0.715731</td>\n",
              "      <td>0.101745</td>\n",
              "      <td>0.175599</td>\n",
              "      <td>0.713322</td>\n",
              "      <td>0.885264</td>\n",
              "      <td>0.983138</td>\n",
              "      <td>0.652907</td>\n",
              "      <td>0.477736</td>\n",
              "    </tr>\n",
              "    <tr>\n",
              "      <th>1</th>\n",
              "      <td>0.000000</td>\n",
              "      <td>0.546999</td>\n",
              "      <td>0.083252</td>\n",
              "      <td>0.500485</td>\n",
              "      <td>0.584912</td>\n",
              "      <td>0.735644</td>\n",
              "      <td>0.202663</td>\n",
              "      <td>0.854388</td>\n",
              "      <td>0.905645</td>\n",
              "      <td>0.760806</td>\n",
              "    </tr>\n",
              "    <tr>\n",
              "      <th>2</th>\n",
              "      <td>0.000000</td>\n",
              "      <td>0.639165</td>\n",
              "      <td>0.101169</td>\n",
              "      <td>0.841468</td>\n",
              "      <td>0.662343</td>\n",
              "      <td>-0.130555</td>\n",
              "      <td>-0.883960</td>\n",
              "      <td>-0.439930</td>\n",
              "      <td>-0.352939</td>\n",
              "      <td>-0.351918</td>\n",
              "    </tr>\n",
              "    <tr>\n",
              "      <th>3</th>\n",
              "      <td>0.000000</td>\n",
              "      <td>0.703291</td>\n",
              "      <td>-0.469396</td>\n",
              "      <td>0.321858</td>\n",
              "      <td>0.244932</td>\n",
              "      <td>-0.731962</td>\n",
              "      <td>-0.829324</td>\n",
              "      <td>-0.931498</td>\n",
              "      <td>-0.893550</td>\n",
              "      <td>0.228072</td>\n",
              "    </tr>\n",
              "    <tr>\n",
              "      <th>4</th>\n",
              "      <td>0.000000</td>\n",
              "      <td>0.368924</td>\n",
              "      <td>0.063367</td>\n",
              "      <td>0.192343</td>\n",
              "      <td>0.934445</td>\n",
              "      <td>0.338874</td>\n",
              "      <td>0.688795</td>\n",
              "      <td>0.081509</td>\n",
              "      <td>0.221630</td>\n",
              "      <td>0.859538</td>\n",
              "    </tr>\n",
              "    <tr>\n",
              "      <th>5</th>\n",
              "      <td>0.000000</td>\n",
              "      <td>0.164656</td>\n",
              "      <td>-0.040218</td>\n",
              "      <td>0.524902</td>\n",
              "      <td>0.255866</td>\n",
              "      <td>-0.625938</td>\n",
              "      <td>-0.908566</td>\n",
              "      <td>-0.431674</td>\n",
              "      <td>-0.225578</td>\n",
              "      <td>-0.138272</td>\n",
              "    </tr>\n",
              "    <tr>\n",
              "      <th>6</th>\n",
              "      <td>0.000000</td>\n",
              "      <td>0.241630</td>\n",
              "      <td>0.894672</td>\n",
              "      <td>0.549966</td>\n",
              "      <td>0.345619</td>\n",
              "      <td>-0.038885</td>\n",
              "      <td>0.193562</td>\n",
              "      <td>0.187608</td>\n",
              "      <td>0.126444</td>\n",
              "      <td>0.312608</td>\n",
              "    </tr>\n",
              "    <tr>\n",
              "      <th>7</th>\n",
              "      <td>0.000000</td>\n",
              "      <td>0.035312</td>\n",
              "      <td>-0.128028</td>\n",
              "      <td>0.464602</td>\n",
              "      <td>0.014216</td>\n",
              "      <td>0.709926</td>\n",
              "      <td>-0.073420</td>\n",
              "      <td>0.153791</td>\n",
              "      <td>0.208516</td>\n",
              "      <td>0.140495</td>\n",
              "    </tr>\n",
              "    <tr>\n",
              "      <th>8</th>\n",
              "      <td>0.000000</td>\n",
              "      <td>0.167551</td>\n",
              "      <td>-0.080522</td>\n",
              "      <td>0.065817</td>\n",
              "      <td>0.600735</td>\n",
              "      <td>0.284951</td>\n",
              "      <td>-0.134720</td>\n",
              "      <td>0.384712</td>\n",
              "      <td>0.057254</td>\n",
              "      <td>0.370269</td>\n",
              "    </tr>\n",
              "    <tr>\n",
              "      <th>9</th>\n",
              "      <td>0.000000</td>\n",
              "      <td>0.253830</td>\n",
              "      <td>0.346367</td>\n",
              "      <td>0.765265</td>\n",
              "      <td>0.697984</td>\n",
              "      <td>0.372828</td>\n",
              "      <td>-0.719135</td>\n",
              "      <td>-0.309281</td>\n",
              "      <td>0.405700</td>\n",
              "      <td>-0.254997</td>\n",
              "    </tr>\n",
              "  </tbody>\n",
              "</table>\n",
              "</div>\n",
              "      <button class=\"colab-df-convert\" onclick=\"convertToInteractive('df-88f942b2-33ad-4385-843e-58cc8573a9c3')\"\n",
              "              title=\"Convert this dataframe to an interactive table.\"\n",
              "              style=\"display:none;\">\n",
              "        \n",
              "  <svg xmlns=\"http://www.w3.org/2000/svg\" height=\"24px\"viewBox=\"0 0 24 24\"\n",
              "       width=\"24px\">\n",
              "    <path d=\"M0 0h24v24H0V0z\" fill=\"none\"/>\n",
              "    <path d=\"M18.56 5.44l.94 2.06.94-2.06 2.06-.94-2.06-.94-.94-2.06-.94 2.06-2.06.94zm-11 1L8.5 8.5l.94-2.06 2.06-.94-2.06-.94L8.5 2.5l-.94 2.06-2.06.94zm10 10l.94 2.06.94-2.06 2.06-.94-2.06-.94-.94-2.06-.94 2.06-2.06.94z\"/><path d=\"M17.41 7.96l-1.37-1.37c-.4-.4-.92-.59-1.43-.59-.52 0-1.04.2-1.43.59L10.3 9.45l-7.72 7.72c-.78.78-.78 2.05 0 2.83L4 21.41c.39.39.9.59 1.41.59.51 0 1.02-.2 1.41-.59l7.78-7.78 2.81-2.81c.8-.78.8-2.07 0-2.86zM5.41 20L4 18.59l7.72-7.72 1.47 1.35L5.41 20z\"/>\n",
              "  </svg>\n",
              "      </button>\n",
              "      \n",
              "  <style>\n",
              "    .colab-df-container {\n",
              "      display:flex;\n",
              "      flex-wrap:wrap;\n",
              "      gap: 12px;\n",
              "    }\n",
              "\n",
              "    .colab-df-convert {\n",
              "      background-color: #E8F0FE;\n",
              "      border: none;\n",
              "      border-radius: 50%;\n",
              "      cursor: pointer;\n",
              "      display: none;\n",
              "      fill: #1967D2;\n",
              "      height: 32px;\n",
              "      padding: 0 0 0 0;\n",
              "      width: 32px;\n",
              "    }\n",
              "\n",
              "    .colab-df-convert:hover {\n",
              "      background-color: #E2EBFA;\n",
              "      box-shadow: 0px 1px 2px rgba(60, 64, 67, 0.3), 0px 1px 3px 1px rgba(60, 64, 67, 0.15);\n",
              "      fill: #174EA6;\n",
              "    }\n",
              "\n",
              "    [theme=dark] .colab-df-convert {\n",
              "      background-color: #3B4455;\n",
              "      fill: #D2E3FC;\n",
              "    }\n",
              "\n",
              "    [theme=dark] .colab-df-convert:hover {\n",
              "      background-color: #434B5C;\n",
              "      box-shadow: 0px 1px 3px 1px rgba(0, 0, 0, 0.15);\n",
              "      filter: drop-shadow(0px 1px 2px rgba(0, 0, 0, 0.3));\n",
              "      fill: #FFFFFF;\n",
              "    }\n",
              "  </style>\n",
              "\n",
              "      <script>\n",
              "        const buttonEl =\n",
              "          document.querySelector('#df-88f942b2-33ad-4385-843e-58cc8573a9c3 button.colab-df-convert');\n",
              "        buttonEl.style.display =\n",
              "          google.colab.kernel.accessAllowed ? 'block' : 'none';\n",
              "\n",
              "        async function convertToInteractive(key) {\n",
              "          const element = document.querySelector('#df-88f942b2-33ad-4385-843e-58cc8573a9c3');\n",
              "          const dataTable =\n",
              "            await google.colab.kernel.invokeFunction('convertToInteractive',\n",
              "                                                     [key], {});\n",
              "          if (!dataTable) return;\n",
              "\n",
              "          const docLinkHtml = 'Like what you see? Visit the ' +\n",
              "            '<a target=\"_blank\" href=https://colab.research.google.com/notebooks/data_table.ipynb>data table notebook</a>'\n",
              "            + ' to learn more about interactive tables.';\n",
              "          element.innerHTML = '';\n",
              "          dataTable['output_type'] = 'display_data';\n",
              "          await google.colab.output.renderOutput(dataTable, element);\n",
              "          const docLink = document.createElement('div');\n",
              "          docLink.innerHTML = docLinkHtml;\n",
              "          element.appendChild(docLink);\n",
              "        }\n",
              "      </script>\n",
              "    </div>\n",
              "  </div>\n",
              "  "
            ],
            "text/plain": [
              "          0         1         2         3         4         5         6  \\\n",
              "0  0.641812  0.087379  0.715731  0.101745  0.175599  0.713322  0.885264   \n",
              "1  0.000000  0.546999  0.083252  0.500485  0.584912  0.735644  0.202663   \n",
              "2  0.000000  0.639165  0.101169  0.841468  0.662343 -0.130555 -0.883960   \n",
              "3  0.000000  0.703291 -0.469396  0.321858  0.244932 -0.731962 -0.829324   \n",
              "4  0.000000  0.368924  0.063367  0.192343  0.934445  0.338874  0.688795   \n",
              "5  0.000000  0.164656 -0.040218  0.524902  0.255866 -0.625938 -0.908566   \n",
              "6  0.000000  0.241630  0.894672  0.549966  0.345619 -0.038885  0.193562   \n",
              "7  0.000000  0.035312 -0.128028  0.464602  0.014216  0.709926 -0.073420   \n",
              "8  0.000000  0.167551 -0.080522  0.065817  0.600735  0.284951 -0.134720   \n",
              "9  0.000000  0.253830  0.346367  0.765265  0.697984  0.372828 -0.719135   \n",
              "\n",
              "          7         8         9  \n",
              "0  0.983138  0.652907  0.477736  \n",
              "1  0.854388  0.905645  0.760806  \n",
              "2 -0.439930 -0.352939 -0.351918  \n",
              "3 -0.931498 -0.893550  0.228072  \n",
              "4  0.081509  0.221630  0.859538  \n",
              "5 -0.431674 -0.225578 -0.138272  \n",
              "6  0.187608  0.126444  0.312608  \n",
              "7  0.153791  0.208516  0.140495  \n",
              "8  0.384712  0.057254  0.370269  \n",
              "9 -0.309281  0.405700 -0.254997  "
            ]
          },
          "execution_count": 99,
          "metadata": {},
          "output_type": "execute_result"
        }
      ],
      "source": [
        "pd.DataFrame(A)"
      ]
    },
    {
      "cell_type": "markdown",
      "metadata": {
        "id": "C6t9hfFA_-zA"
      },
      "source": [
        "**12. Escreva um código para zerar os elementos abaixo do pivô da coluna 1**"
      ]
    },
    {
      "cell_type": "code",
      "execution_count": null,
      "metadata": {
        "id": "lP9IHkq4_-zA"
      },
      "outputs": [],
      "source": [
        "pivo = A[1 , 1]\n",
        "\n",
        "for k in range(2, 10):\n",
        "    m = - A[k ,1] / pivo\n",
        "    A[k] = A[k] + m * A[1]\n",
        "    b[k] = b[k] + m * b[1]\n",
        "    # A[k, 1] = 0\n",
        "    "
      ]
    },
    {
      "cell_type": "code",
      "execution_count": null,
      "metadata": {
        "colab": {
          "base_uri": "https://localhost:8080/",
          "height": 363
        },
        "id": "n6g0pGxA_-zA",
        "outputId": "849ae7a9-9efc-4a9e-b132-6f5f3e0ab6ad"
      },
      "outputs": [
        {
          "data": {
            "text/html": [
              "\n",
              "  <div id=\"df-20257d9d-fc6e-466b-92fc-e89427d81ec5\">\n",
              "    <div class=\"colab-df-container\">\n",
              "      <div>\n",
              "<style scoped>\n",
              "    .dataframe tbody tr th:only-of-type {\n",
              "        vertical-align: middle;\n",
              "    }\n",
              "\n",
              "    .dataframe tbody tr th {\n",
              "        vertical-align: top;\n",
              "    }\n",
              "\n",
              "    .dataframe thead th {\n",
              "        text-align: right;\n",
              "    }\n",
              "</style>\n",
              "<table border=\"1\" class=\"dataframe\">\n",
              "  <thead>\n",
              "    <tr style=\"text-align: right;\">\n",
              "      <th></th>\n",
              "      <th>0</th>\n",
              "      <th>1</th>\n",
              "      <th>2</th>\n",
              "      <th>3</th>\n",
              "      <th>4</th>\n",
              "      <th>5</th>\n",
              "      <th>6</th>\n",
              "      <th>7</th>\n",
              "      <th>8</th>\n",
              "      <th>9</th>\n",
              "    </tr>\n",
              "  </thead>\n",
              "  <tbody>\n",
              "    <tr>\n",
              "      <th>0</th>\n",
              "      <td>0.641812</td>\n",
              "      <td>8.737918e-02</td>\n",
              "      <td>0.715731</td>\n",
              "      <td>0.101745</td>\n",
              "      <td>0.175599</td>\n",
              "      <td>0.713322</td>\n",
              "      <td>0.885264</td>\n",
              "      <td>0.983138</td>\n",
              "      <td>0.652907</td>\n",
              "      <td>0.477736</td>\n",
              "    </tr>\n",
              "    <tr>\n",
              "      <th>1</th>\n",
              "      <td>0.000000</td>\n",
              "      <td>5.469990e-01</td>\n",
              "      <td>0.083252</td>\n",
              "      <td>0.500485</td>\n",
              "      <td>0.584912</td>\n",
              "      <td>0.735644</td>\n",
              "      <td>0.202663</td>\n",
              "      <td>0.854388</td>\n",
              "      <td>0.905645</td>\n",
              "      <td>0.760806</td>\n",
              "    </tr>\n",
              "    <tr>\n",
              "      <th>2</th>\n",
              "      <td>0.000000</td>\n",
              "      <td>0.000000e+00</td>\n",
              "      <td>0.003890</td>\n",
              "      <td>0.256654</td>\n",
              "      <td>-0.021122</td>\n",
              "      <td>-0.990150</td>\n",
              "      <td>-1.120771</td>\n",
              "      <td>-1.438276</td>\n",
              "      <td>-1.411179</td>\n",
              "      <td>-1.240914</td>\n",
              "    </tr>\n",
              "    <tr>\n",
              "      <th>3</th>\n",
              "      <td>0.000000</td>\n",
              "      <td>-1.110223e-16</td>\n",
              "      <td>-0.576435</td>\n",
              "      <td>-0.321629</td>\n",
              "      <td>-0.507104</td>\n",
              "      <td>-1.677798</td>\n",
              "      <td>-1.089894</td>\n",
              "      <td>-2.030006</td>\n",
              "      <td>-2.057962</td>\n",
              "      <td>-0.750115</td>\n",
              "    </tr>\n",
              "    <tr>\n",
              "      <th>4</th>\n",
              "      <td>0.000000</td>\n",
              "      <td>0.000000e+00</td>\n",
              "      <td>0.007217</td>\n",
              "      <td>-0.145210</td>\n",
              "      <td>0.539951</td>\n",
              "      <td>-0.157282</td>\n",
              "      <td>0.552108</td>\n",
              "      <td>-0.494734</td>\n",
              "      <td>-0.389184</td>\n",
              "      <td>0.346411</td>\n",
              "    </tr>\n",
              "    <tr>\n",
              "      <th>5</th>\n",
              "      <td>0.000000</td>\n",
              "      <td>0.000000e+00</td>\n",
              "      <td>-0.065278</td>\n",
              "      <td>0.374247</td>\n",
              "      <td>0.079797</td>\n",
              "      <td>-0.847380</td>\n",
              "      <td>-0.969571</td>\n",
              "      <td>-0.688860</td>\n",
              "      <td>-0.498193</td>\n",
              "      <td>-0.367288</td>\n",
              "    </tr>\n",
              "    <tr>\n",
              "      <th>6</th>\n",
              "      <td>0.000000</td>\n",
              "      <td>0.000000e+00</td>\n",
              "      <td>0.857897</td>\n",
              "      <td>0.328883</td>\n",
              "      <td>0.087242</td>\n",
              "      <td>-0.363846</td>\n",
              "      <td>0.104038</td>\n",
              "      <td>-0.189807</td>\n",
              "      <td>-0.273613</td>\n",
              "      <td>-0.023468</td>\n",
              "    </tr>\n",
              "    <tr>\n",
              "      <th>7</th>\n",
              "      <td>0.000000</td>\n",
              "      <td>0.000000e+00</td>\n",
              "      <td>-0.133403</td>\n",
              "      <td>0.432293</td>\n",
              "      <td>-0.023543</td>\n",
              "      <td>0.662436</td>\n",
              "      <td>-0.086503</td>\n",
              "      <td>0.098635</td>\n",
              "      <td>0.150051</td>\n",
              "      <td>0.091380</td>\n",
              "    </tr>\n",
              "    <tr>\n",
              "      <th>8</th>\n",
              "      <td>0.000000</td>\n",
              "      <td>0.000000e+00</td>\n",
              "      <td>-0.106023</td>\n",
              "      <td>-0.087486</td>\n",
              "      <td>0.421571</td>\n",
              "      <td>0.059616</td>\n",
              "      <td>-0.196798</td>\n",
              "      <td>0.123005</td>\n",
              "      <td>-0.220153</td>\n",
              "      <td>0.137227</td>\n",
              "    </tr>\n",
              "    <tr>\n",
              "      <th>9</th>\n",
              "      <td>0.000000</td>\n",
              "      <td>0.000000e+00</td>\n",
              "      <td>0.307734</td>\n",
              "      <td>0.533019</td>\n",
              "      <td>0.426561</td>\n",
              "      <td>0.031459</td>\n",
              "      <td>-0.813180</td>\n",
              "      <td>-0.705752</td>\n",
              "      <td>-0.014557</td>\n",
              "      <td>-0.608043</td>\n",
              "    </tr>\n",
              "  </tbody>\n",
              "</table>\n",
              "</div>\n",
              "      <button class=\"colab-df-convert\" onclick=\"convertToInteractive('df-20257d9d-fc6e-466b-92fc-e89427d81ec5')\"\n",
              "              title=\"Convert this dataframe to an interactive table.\"\n",
              "              style=\"display:none;\">\n",
              "        \n",
              "  <svg xmlns=\"http://www.w3.org/2000/svg\" height=\"24px\"viewBox=\"0 0 24 24\"\n",
              "       width=\"24px\">\n",
              "    <path d=\"M0 0h24v24H0V0z\" fill=\"none\"/>\n",
              "    <path d=\"M18.56 5.44l.94 2.06.94-2.06 2.06-.94-2.06-.94-.94-2.06-.94 2.06-2.06.94zm-11 1L8.5 8.5l.94-2.06 2.06-.94-2.06-.94L8.5 2.5l-.94 2.06-2.06.94zm10 10l.94 2.06.94-2.06 2.06-.94-2.06-.94-.94-2.06-.94 2.06-2.06.94z\"/><path d=\"M17.41 7.96l-1.37-1.37c-.4-.4-.92-.59-1.43-.59-.52 0-1.04.2-1.43.59L10.3 9.45l-7.72 7.72c-.78.78-.78 2.05 0 2.83L4 21.41c.39.39.9.59 1.41.59.51 0 1.02-.2 1.41-.59l7.78-7.78 2.81-2.81c.8-.78.8-2.07 0-2.86zM5.41 20L4 18.59l7.72-7.72 1.47 1.35L5.41 20z\"/>\n",
              "  </svg>\n",
              "      </button>\n",
              "      \n",
              "  <style>\n",
              "    .colab-df-container {\n",
              "      display:flex;\n",
              "      flex-wrap:wrap;\n",
              "      gap: 12px;\n",
              "    }\n",
              "\n",
              "    .colab-df-convert {\n",
              "      background-color: #E8F0FE;\n",
              "      border: none;\n",
              "      border-radius: 50%;\n",
              "      cursor: pointer;\n",
              "      display: none;\n",
              "      fill: #1967D2;\n",
              "      height: 32px;\n",
              "      padding: 0 0 0 0;\n",
              "      width: 32px;\n",
              "    }\n",
              "\n",
              "    .colab-df-convert:hover {\n",
              "      background-color: #E2EBFA;\n",
              "      box-shadow: 0px 1px 2px rgba(60, 64, 67, 0.3), 0px 1px 3px 1px rgba(60, 64, 67, 0.15);\n",
              "      fill: #174EA6;\n",
              "    }\n",
              "\n",
              "    [theme=dark] .colab-df-convert {\n",
              "      background-color: #3B4455;\n",
              "      fill: #D2E3FC;\n",
              "    }\n",
              "\n",
              "    [theme=dark] .colab-df-convert:hover {\n",
              "      background-color: #434B5C;\n",
              "      box-shadow: 0px 1px 3px 1px rgba(0, 0, 0, 0.15);\n",
              "      filter: drop-shadow(0px 1px 2px rgba(0, 0, 0, 0.3));\n",
              "      fill: #FFFFFF;\n",
              "    }\n",
              "  </style>\n",
              "\n",
              "      <script>\n",
              "        const buttonEl =\n",
              "          document.querySelector('#df-20257d9d-fc6e-466b-92fc-e89427d81ec5 button.colab-df-convert');\n",
              "        buttonEl.style.display =\n",
              "          google.colab.kernel.accessAllowed ? 'block' : 'none';\n",
              "\n",
              "        async function convertToInteractive(key) {\n",
              "          const element = document.querySelector('#df-20257d9d-fc6e-466b-92fc-e89427d81ec5');\n",
              "          const dataTable =\n",
              "            await google.colab.kernel.invokeFunction('convertToInteractive',\n",
              "                                                     [key], {});\n",
              "          if (!dataTable) return;\n",
              "\n",
              "          const docLinkHtml = 'Like what you see? Visit the ' +\n",
              "            '<a target=\"_blank\" href=https://colab.research.google.com/notebooks/data_table.ipynb>data table notebook</a>'\n",
              "            + ' to learn more about interactive tables.';\n",
              "          element.innerHTML = '';\n",
              "          dataTable['output_type'] = 'display_data';\n",
              "          await google.colab.output.renderOutput(dataTable, element);\n",
              "          const docLink = document.createElement('div');\n",
              "          docLink.innerHTML = docLinkHtml;\n",
              "          element.appendChild(docLink);\n",
              "        }\n",
              "      </script>\n",
              "    </div>\n",
              "  </div>\n",
              "  "
            ],
            "text/plain": [
              "          0             1         2         3         4         5         6  \\\n",
              "0  0.641812  8.737918e-02  0.715731  0.101745  0.175599  0.713322  0.885264   \n",
              "1  0.000000  5.469990e-01  0.083252  0.500485  0.584912  0.735644  0.202663   \n",
              "2  0.000000  0.000000e+00  0.003890  0.256654 -0.021122 -0.990150 -1.120771   \n",
              "3  0.000000 -1.110223e-16 -0.576435 -0.321629 -0.507104 -1.677798 -1.089894   \n",
              "4  0.000000  0.000000e+00  0.007217 -0.145210  0.539951 -0.157282  0.552108   \n",
              "5  0.000000  0.000000e+00 -0.065278  0.374247  0.079797 -0.847380 -0.969571   \n",
              "6  0.000000  0.000000e+00  0.857897  0.328883  0.087242 -0.363846  0.104038   \n",
              "7  0.000000  0.000000e+00 -0.133403  0.432293 -0.023543  0.662436 -0.086503   \n",
              "8  0.000000  0.000000e+00 -0.106023 -0.087486  0.421571  0.059616 -0.196798   \n",
              "9  0.000000  0.000000e+00  0.307734  0.533019  0.426561  0.031459 -0.813180   \n",
              "\n",
              "          7         8         9  \n",
              "0  0.983138  0.652907  0.477736  \n",
              "1  0.854388  0.905645  0.760806  \n",
              "2 -1.438276 -1.411179 -1.240914  \n",
              "3 -2.030006 -2.057962 -0.750115  \n",
              "4 -0.494734 -0.389184  0.346411  \n",
              "5 -0.688860 -0.498193 -0.367288  \n",
              "6 -0.189807 -0.273613 -0.023468  \n",
              "7  0.098635  0.150051  0.091380  \n",
              "8  0.123005 -0.220153  0.137227  \n",
              "9 -0.705752 -0.014557 -0.608043  "
            ]
          },
          "execution_count": 101,
          "metadata": {},
          "output_type": "execute_result"
        }
      ],
      "source": [
        "pd.DataFrame(A)"
      ]
    },
    {
      "cell_type": "markdown",
      "metadata": {
        "id": "fsyT-lIC_-zA"
      },
      "source": [
        "**13. Escreva um código para zerar os elementos abaixo do pivô da coluna 2**"
      ]
    },
    {
      "cell_type": "code",
      "execution_count": null,
      "metadata": {
        "id": "RvWV0Kr4_-zA"
      },
      "outputs": [],
      "source": [
        "pivo = A[2 , 2]\n",
        "\n",
        "for k in range(3, 10):\n",
        "    m = - A[k ,2] / pivo\n",
        "    A[k] = A[k] + m * A[2]\n",
        "    b[k] = b[k] + m * b[2]\n",
        "    # A[k, 0] = 0\n",
        "    "
      ]
    },
    {
      "cell_type": "code",
      "execution_count": null,
      "metadata": {
        "colab": {
          "base_uri": "https://localhost:8080/",
          "height": 363
        },
        "id": "3FU05VwsjEsg",
        "outputId": "47bd8af6-7b7e-4fe3-8f5c-67bfa8aea42d"
      },
      "outputs": [
        {
          "data": {
            "text/html": [
              "\n",
              "  <div id=\"df-54004293-a63c-4aa3-974f-61de18f0180b\">\n",
              "    <div class=\"colab-df-container\">\n",
              "      <div>\n",
              "<style scoped>\n",
              "    .dataframe tbody tr th:only-of-type {\n",
              "        vertical-align: middle;\n",
              "    }\n",
              "\n",
              "    .dataframe tbody tr th {\n",
              "        vertical-align: top;\n",
              "    }\n",
              "\n",
              "    .dataframe thead th {\n",
              "        text-align: right;\n",
              "    }\n",
              "</style>\n",
              "<table border=\"1\" class=\"dataframe\">\n",
              "  <thead>\n",
              "    <tr style=\"text-align: right;\">\n",
              "      <th></th>\n",
              "      <th>0</th>\n",
              "      <th>1</th>\n",
              "      <th>2</th>\n",
              "      <th>3</th>\n",
              "      <th>4</th>\n",
              "      <th>5</th>\n",
              "      <th>6</th>\n",
              "      <th>7</th>\n",
              "      <th>8</th>\n",
              "      <th>9</th>\n",
              "    </tr>\n",
              "  </thead>\n",
              "  <tbody>\n",
              "    <tr>\n",
              "      <th>0</th>\n",
              "      <td>0.012051</td>\n",
              "      <td>0.207087</td>\n",
              "      <td>0.479008</td>\n",
              "      <td>0.162310</td>\n",
              "      <td>0.068688</td>\n",
              "      <td>0.492511</td>\n",
              "      <td>0.903145</td>\n",
              "      <td>0.011501</td>\n",
              "      <td>0.228078</td>\n",
              "      <td>0.901320</td>\n",
              "    </tr>\n",
              "    <tr>\n",
              "      <th>1</th>\n",
              "      <td>0.000000</td>\n",
              "      <td>-10.068226</td>\n",
              "      <td>-24.300268</td>\n",
              "      <td>-8.323395</td>\n",
              "      <td>-2.875402</td>\n",
              "      <td>-25.659218</td>\n",
              "      <td>-46.592932</td>\n",
              "      <td>0.351872</td>\n",
              "      <td>-11.843244</td>\n",
              "      <td>-46.623044</td>\n",
              "    </tr>\n",
              "    <tr>\n",
              "      <th>2</th>\n",
              "      <td>0.000000</td>\n",
              "      <td>0.000000</td>\n",
              "      <td>-0.883384</td>\n",
              "      <td>0.138818</td>\n",
              "      <td>0.551405</td>\n",
              "      <td>-0.519687</td>\n",
              "      <td>-2.054984</td>\n",
              "      <td>0.021328</td>\n",
              "      <td>0.269376</td>\n",
              "      <td>-2.489456</td>\n",
              "    </tr>\n",
              "    <tr>\n",
              "      <th>3</th>\n",
              "      <td>0.000000</td>\n",
              "      <td>0.000000</td>\n",
              "      <td>0.000000</td>\n",
              "      <td>1.431620</td>\n",
              "      <td>0.883286</td>\n",
              "      <td>1.714544</td>\n",
              "      <td>-1.352149</td>\n",
              "      <td>-0.967667</td>\n",
              "      <td>1.810584</td>\n",
              "      <td>-1.932585</td>\n",
              "    </tr>\n",
              "    <tr>\n",
              "      <th>4</th>\n",
              "      <td>0.000000</td>\n",
              "      <td>0.000000</td>\n",
              "      <td>0.000000</td>\n",
              "      <td>0.000000</td>\n",
              "      <td>-1.139367</td>\n",
              "      <td>-0.569660</td>\n",
              "      <td>0.933051</td>\n",
              "      <td>0.737188</td>\n",
              "      <td>-0.945586</td>\n",
              "      <td>1.386234</td>\n",
              "    </tr>\n",
              "    <tr>\n",
              "      <th>5</th>\n",
              "      <td>0.000000</td>\n",
              "      <td>0.000000</td>\n",
              "      <td>0.000000</td>\n",
              "      <td>0.000000</td>\n",
              "      <td>0.000000</td>\n",
              "      <td>-0.246650</td>\n",
              "      <td>1.728106</td>\n",
              "      <td>-0.347998</td>\n",
              "      <td>0.062790</td>\n",
              "      <td>1.712365</td>\n",
              "    </tr>\n",
              "    <tr>\n",
              "      <th>6</th>\n",
              "      <td>0.000000</td>\n",
              "      <td>0.000000</td>\n",
              "      <td>0.000000</td>\n",
              "      <td>0.000000</td>\n",
              "      <td>0.000000</td>\n",
              "      <td>0.000000</td>\n",
              "      <td>4.514689</td>\n",
              "      <td>-0.731263</td>\n",
              "      <td>0.106697</td>\n",
              "      <td>5.859311</td>\n",
              "    </tr>\n",
              "    <tr>\n",
              "      <th>7</th>\n",
              "      <td>0.000000</td>\n",
              "      <td>0.000000</td>\n",
              "      <td>0.000000</td>\n",
              "      <td>0.000000</td>\n",
              "      <td>0.000000</td>\n",
              "      <td>0.000000</td>\n",
              "      <td>0.000000</td>\n",
              "      <td>1.240021</td>\n",
              "      <td>-0.272940</td>\n",
              "      <td>1.345171</td>\n",
              "    </tr>\n",
              "    <tr>\n",
              "      <th>8</th>\n",
              "      <td>0.000000</td>\n",
              "      <td>0.000000</td>\n",
              "      <td>0.000000</td>\n",
              "      <td>0.000000</td>\n",
              "      <td>0.000000</td>\n",
              "      <td>0.000000</td>\n",
              "      <td>0.000000</td>\n",
              "      <td>0.000000</td>\n",
              "      <td>-0.026213</td>\n",
              "      <td>0.884396</td>\n",
              "    </tr>\n",
              "    <tr>\n",
              "      <th>9</th>\n",
              "      <td>0.000000</td>\n",
              "      <td>0.000000</td>\n",
              "      <td>0.000000</td>\n",
              "      <td>0.000000</td>\n",
              "      <td>0.000000</td>\n",
              "      <td>0.000000</td>\n",
              "      <td>0.000000</td>\n",
              "      <td>0.000000</td>\n",
              "      <td>0.000000</td>\n",
              "      <td>7.056261</td>\n",
              "    </tr>\n",
              "  </tbody>\n",
              "</table>\n",
              "</div>\n",
              "      <button class=\"colab-df-convert\" onclick=\"convertToInteractive('df-54004293-a63c-4aa3-974f-61de18f0180b')\"\n",
              "              title=\"Convert this dataframe to an interactive table.\"\n",
              "              style=\"display:none;\">\n",
              "        \n",
              "  <svg xmlns=\"http://www.w3.org/2000/svg\" height=\"24px\"viewBox=\"0 0 24 24\"\n",
              "       width=\"24px\">\n",
              "    <path d=\"M0 0h24v24H0V0z\" fill=\"none\"/>\n",
              "    <path d=\"M18.56 5.44l.94 2.06.94-2.06 2.06-.94-2.06-.94-.94-2.06-.94 2.06-2.06.94zm-11 1L8.5 8.5l.94-2.06 2.06-.94-2.06-.94L8.5 2.5l-.94 2.06-2.06.94zm10 10l.94 2.06.94-2.06 2.06-.94-2.06-.94-.94-2.06-.94 2.06-2.06.94z\"/><path d=\"M17.41 7.96l-1.37-1.37c-.4-.4-.92-.59-1.43-.59-.52 0-1.04.2-1.43.59L10.3 9.45l-7.72 7.72c-.78.78-.78 2.05 0 2.83L4 21.41c.39.39.9.59 1.41.59.51 0 1.02-.2 1.41-.59l7.78-7.78 2.81-2.81c.8-.78.8-2.07 0-2.86zM5.41 20L4 18.59l7.72-7.72 1.47 1.35L5.41 20z\"/>\n",
              "  </svg>\n",
              "      </button>\n",
              "      \n",
              "  <style>\n",
              "    .colab-df-container {\n",
              "      display:flex;\n",
              "      flex-wrap:wrap;\n",
              "      gap: 12px;\n",
              "    }\n",
              "\n",
              "    .colab-df-convert {\n",
              "      background-color: #E8F0FE;\n",
              "      border: none;\n",
              "      border-radius: 50%;\n",
              "      cursor: pointer;\n",
              "      display: none;\n",
              "      fill: #1967D2;\n",
              "      height: 32px;\n",
              "      padding: 0 0 0 0;\n",
              "      width: 32px;\n",
              "    }\n",
              "\n",
              "    .colab-df-convert:hover {\n",
              "      background-color: #E2EBFA;\n",
              "      box-shadow: 0px 1px 2px rgba(60, 64, 67, 0.3), 0px 1px 3px 1px rgba(60, 64, 67, 0.15);\n",
              "      fill: #174EA6;\n",
              "    }\n",
              "\n",
              "    [theme=dark] .colab-df-convert {\n",
              "      background-color: #3B4455;\n",
              "      fill: #D2E3FC;\n",
              "    }\n",
              "\n",
              "    [theme=dark] .colab-df-convert:hover {\n",
              "      background-color: #434B5C;\n",
              "      box-shadow: 0px 1px 3px 1px rgba(0, 0, 0, 0.15);\n",
              "      filter: drop-shadow(0px 1px 2px rgba(0, 0, 0, 0.3));\n",
              "      fill: #FFFFFF;\n",
              "    }\n",
              "  </style>\n",
              "\n",
              "      <script>\n",
              "        const buttonEl =\n",
              "          document.querySelector('#df-54004293-a63c-4aa3-974f-61de18f0180b button.colab-df-convert');\n",
              "        buttonEl.style.display =\n",
              "          google.colab.kernel.accessAllowed ? 'block' : 'none';\n",
              "\n",
              "        async function convertToInteractive(key) {\n",
              "          const element = document.querySelector('#df-54004293-a63c-4aa3-974f-61de18f0180b');\n",
              "          const dataTable =\n",
              "            await google.colab.kernel.invokeFunction('convertToInteractive',\n",
              "                                                     [key], {});\n",
              "          if (!dataTable) return;\n",
              "\n",
              "          const docLinkHtml = 'Like what you see? Visit the ' +\n",
              "            '<a target=\"_blank\" href=https://colab.research.google.com/notebooks/data_table.ipynb>data table notebook</a>'\n",
              "            + ' to learn more about interactive tables.';\n",
              "          element.innerHTML = '';\n",
              "          dataTable['output_type'] = 'display_data';\n",
              "          await google.colab.output.renderOutput(dataTable, element);\n",
              "          const docLink = document.createElement('div');\n",
              "          docLink.innerHTML = docLinkHtml;\n",
              "          element.appendChild(docLink);\n",
              "        }\n",
              "      </script>\n",
              "    </div>\n",
              "  </div>\n",
              "  "
            ],
            "text/plain": [
              "          0          1          2         3         4          5          6  \\\n",
              "0  0.012051   0.207087   0.479008  0.162310  0.068688   0.492511   0.903145   \n",
              "1  0.000000 -10.068226 -24.300268 -8.323395 -2.875402 -25.659218 -46.592932   \n",
              "2  0.000000   0.000000  -0.883384  0.138818  0.551405  -0.519687  -2.054984   \n",
              "3  0.000000   0.000000   0.000000  1.431620  0.883286   1.714544  -1.352149   \n",
              "4  0.000000   0.000000   0.000000  0.000000 -1.139367  -0.569660   0.933051   \n",
              "5  0.000000   0.000000   0.000000  0.000000  0.000000  -0.246650   1.728106   \n",
              "6  0.000000   0.000000   0.000000  0.000000  0.000000   0.000000   4.514689   \n",
              "7  0.000000   0.000000   0.000000  0.000000  0.000000   0.000000   0.000000   \n",
              "8  0.000000   0.000000   0.000000  0.000000  0.000000   0.000000   0.000000   \n",
              "9  0.000000   0.000000   0.000000  0.000000  0.000000   0.000000   0.000000   \n",
              "\n",
              "          7          8          9  \n",
              "0  0.011501   0.228078   0.901320  \n",
              "1  0.351872 -11.843244 -46.623044  \n",
              "2  0.021328   0.269376  -2.489456  \n",
              "3 -0.967667   1.810584  -1.932585  \n",
              "4  0.737188  -0.945586   1.386234  \n",
              "5 -0.347998   0.062790   1.712365  \n",
              "6 -0.731263   0.106697   5.859311  \n",
              "7  1.240021  -0.272940   1.345171  \n",
              "8  0.000000  -0.026213   0.884396  \n",
              "9  0.000000   0.000000   7.056261  "
            ]
          },
          "execution_count": 108,
          "metadata": {},
          "output_type": "execute_result"
        }
      ],
      "source": [
        "A = np.random.rand(10, 10)\n",
        "b = np.random.rand(10, 1)\n",
        "\n",
        "for j in range(0, 9):\n",
        "  pivo = A[j , j]\n",
        "\n",
        "  for k in range(j+1, 10):\n",
        "      m = - A[k ,j] / pivo\n",
        "      A[k] = A[k] + m * A[j]\n",
        "      b[k] = b[k] + m * b[j]\n",
        "      A[k, j] = 0\n",
        "pd.DataFrame(A)"
      ]
    },
    {
      "cell_type": "markdown",
      "metadata": {
        "id": "_mje-h_W_-zA"
      },
      "source": [
        "**14. Existe repetição nesses códigos. Agora escreva um laço para zerar os elementos abaixo do pivô da coluna k.**"
      ]
    },
    {
      "cell_type": "code",
      "execution_count": null,
      "metadata": {
        "id": "0ssnBaU6_-zB"
      },
      "outputs": [],
      "source": [
        "k = 3\n",
        "\n"
      ]
    },
    {
      "cell_type": "code",
      "execution_count": null,
      "metadata": {
        "id": "YjK783FB_-zB"
      },
      "outputs": [],
      "source": [
        "pd.DataFrame(A)"
      ]
    },
    {
      "cell_type": "markdown",
      "metadata": {
        "id": "0DujKE___-zB"
      },
      "source": [
        "**15. Escreva uma função que realize a primeira parte da eliminação gaussiana, convertendo a matriz em uma matriz triangular superior.**"
      ]
    },
    {
      "cell_type": "code",
      "execution_count": null,
      "metadata": {
        "id": "D6DqGgWM_-zB"
      },
      "outputs": [],
      "source": [
        "def eliminacao_gaussiana(matriz_coeficientes, termos_independentes):\n",
        "    '''\n",
        "    matriz_coeficientes é uma matriz quadrada\n",
        "    termos_independentes é um vetor\n",
        "    Não será necessário realizar pivoteamento, se o pivo for igual a zero ocorrerá um erro (divisão por zero)\n",
        "    '''\n",
        "    \n",
        "    A = np.copy(matriz_coeficientes)\n",
        "    b = np.copy(termos_independentes)\n",
        "    tamanho = len(A)\n",
        "\n",
        "    for j in range(0, tamanho-1):\n",
        "      pivo = A[j , j]\n",
        "\n",
        "      for k in range(j+1, tamanho):\n",
        "          m = - A[k ,j] / pivo\n",
        "          A[k] = A[k] + m * A[j]\n",
        "          b[k] = b[k] + m * b[j]\n",
        "          A[k, j] = 0\n",
        "    \n",
        "    \n",
        "    return A, b"
      ]
    },
    {
      "cell_type": "code",
      "execution_count": null,
      "metadata": {
        "id": "f2FufnWq_-zB"
      },
      "outputs": [],
      "source": [
        "# np.random.seed(1)\n",
        "tA = np.random.rand(6, 6)\n",
        "tb = np.random.rand(6, 1)\n",
        "\n",
        "A, b = eliminacao_gaussiana(tA, tb)"
      ]
    },
    {
      "cell_type": "code",
      "execution_count": null,
      "metadata": {
        "colab": {
          "base_uri": "https://localhost:8080/",
          "height": 238
        },
        "id": "If3NOTud_-zB",
        "outputId": "7e856026-0517-4556-b67c-52ca6f802b2b"
      },
      "outputs": [
        {
          "data": {
            "text/html": [
              "\n",
              "  <div id=\"df-9234a457-525b-4188-8df9-1868cbca852a\">\n",
              "    <div class=\"colab-df-container\">\n",
              "      <div>\n",
              "<style scoped>\n",
              "    .dataframe tbody tr th:only-of-type {\n",
              "        vertical-align: middle;\n",
              "    }\n",
              "\n",
              "    .dataframe tbody tr th {\n",
              "        vertical-align: top;\n",
              "    }\n",
              "\n",
              "    .dataframe thead th {\n",
              "        text-align: right;\n",
              "    }\n",
              "</style>\n",
              "<table border=\"1\" class=\"dataframe\">\n",
              "  <thead>\n",
              "    <tr style=\"text-align: right;\">\n",
              "      <th></th>\n",
              "      <th>0</th>\n",
              "      <th>1</th>\n",
              "      <th>2</th>\n",
              "      <th>3</th>\n",
              "      <th>4</th>\n",
              "      <th>5</th>\n",
              "    </tr>\n",
              "  </thead>\n",
              "  <tbody>\n",
              "    <tr>\n",
              "      <th>0</th>\n",
              "      <td>0.37658</td>\n",
              "      <td>0.973784</td>\n",
              "      <td>0.604716</td>\n",
              "      <td>0.828846</td>\n",
              "      <td>0.574712</td>\n",
              "      <td>0.628076</td>\n",
              "    </tr>\n",
              "    <tr>\n",
              "      <th>1</th>\n",
              "      <td>0.00000</td>\n",
              "      <td>-0.151627</td>\n",
              "      <td>0.291441</td>\n",
              "      <td>0.229766</td>\n",
              "      <td>0.319255</td>\n",
              "      <td>0.221761</td>\n",
              "    </tr>\n",
              "    <tr>\n",
              "      <th>2</th>\n",
              "      <td>0.00000</td>\n",
              "      <td>0.000000</td>\n",
              "      <td>-4.393870</td>\n",
              "      <td>-4.350284</td>\n",
              "      <td>-4.964547</td>\n",
              "      <td>-3.828480</td>\n",
              "    </tr>\n",
              "    <tr>\n",
              "      <th>3</th>\n",
              "      <td>0.00000</td>\n",
              "      <td>0.000000</td>\n",
              "      <td>0.000000</td>\n",
              "      <td>-0.151408</td>\n",
              "      <td>0.434549</td>\n",
              "      <td>0.181008</td>\n",
              "    </tr>\n",
              "    <tr>\n",
              "      <th>4</th>\n",
              "      <td>0.00000</td>\n",
              "      <td>0.000000</td>\n",
              "      <td>0.000000</td>\n",
              "      <td>0.000000</td>\n",
              "      <td>1.616937</td>\n",
              "      <td>1.012070</td>\n",
              "    </tr>\n",
              "    <tr>\n",
              "      <th>5</th>\n",
              "      <td>0.00000</td>\n",
              "      <td>0.000000</td>\n",
              "      <td>0.000000</td>\n",
              "      <td>0.000000</td>\n",
              "      <td>0.000000</td>\n",
              "      <td>-0.077152</td>\n",
              "    </tr>\n",
              "  </tbody>\n",
              "</table>\n",
              "</div>\n",
              "      <button class=\"colab-df-convert\" onclick=\"convertToInteractive('df-9234a457-525b-4188-8df9-1868cbca852a')\"\n",
              "              title=\"Convert this dataframe to an interactive table.\"\n",
              "              style=\"display:none;\">\n",
              "        \n",
              "  <svg xmlns=\"http://www.w3.org/2000/svg\" height=\"24px\"viewBox=\"0 0 24 24\"\n",
              "       width=\"24px\">\n",
              "    <path d=\"M0 0h24v24H0V0z\" fill=\"none\"/>\n",
              "    <path d=\"M18.56 5.44l.94 2.06.94-2.06 2.06-.94-2.06-.94-.94-2.06-.94 2.06-2.06.94zm-11 1L8.5 8.5l.94-2.06 2.06-.94-2.06-.94L8.5 2.5l-.94 2.06-2.06.94zm10 10l.94 2.06.94-2.06 2.06-.94-2.06-.94-.94-2.06-.94 2.06-2.06.94z\"/><path d=\"M17.41 7.96l-1.37-1.37c-.4-.4-.92-.59-1.43-.59-.52 0-1.04.2-1.43.59L10.3 9.45l-7.72 7.72c-.78.78-.78 2.05 0 2.83L4 21.41c.39.39.9.59 1.41.59.51 0 1.02-.2 1.41-.59l7.78-7.78 2.81-2.81c.8-.78.8-2.07 0-2.86zM5.41 20L4 18.59l7.72-7.72 1.47 1.35L5.41 20z\"/>\n",
              "  </svg>\n",
              "      </button>\n",
              "      \n",
              "  <style>\n",
              "    .colab-df-container {\n",
              "      display:flex;\n",
              "      flex-wrap:wrap;\n",
              "      gap: 12px;\n",
              "    }\n",
              "\n",
              "    .colab-df-convert {\n",
              "      background-color: #E8F0FE;\n",
              "      border: none;\n",
              "      border-radius: 50%;\n",
              "      cursor: pointer;\n",
              "      display: none;\n",
              "      fill: #1967D2;\n",
              "      height: 32px;\n",
              "      padding: 0 0 0 0;\n",
              "      width: 32px;\n",
              "    }\n",
              "\n",
              "    .colab-df-convert:hover {\n",
              "      background-color: #E2EBFA;\n",
              "      box-shadow: 0px 1px 2px rgba(60, 64, 67, 0.3), 0px 1px 3px 1px rgba(60, 64, 67, 0.15);\n",
              "      fill: #174EA6;\n",
              "    }\n",
              "\n",
              "    [theme=dark] .colab-df-convert {\n",
              "      background-color: #3B4455;\n",
              "      fill: #D2E3FC;\n",
              "    }\n",
              "\n",
              "    [theme=dark] .colab-df-convert:hover {\n",
              "      background-color: #434B5C;\n",
              "      box-shadow: 0px 1px 3px 1px rgba(0, 0, 0, 0.15);\n",
              "      filter: drop-shadow(0px 1px 2px rgba(0, 0, 0, 0.3));\n",
              "      fill: #FFFFFF;\n",
              "    }\n",
              "  </style>\n",
              "\n",
              "      <script>\n",
              "        const buttonEl =\n",
              "          document.querySelector('#df-9234a457-525b-4188-8df9-1868cbca852a button.colab-df-convert');\n",
              "        buttonEl.style.display =\n",
              "          google.colab.kernel.accessAllowed ? 'block' : 'none';\n",
              "\n",
              "        async function convertToInteractive(key) {\n",
              "          const element = document.querySelector('#df-9234a457-525b-4188-8df9-1868cbca852a');\n",
              "          const dataTable =\n",
              "            await google.colab.kernel.invokeFunction('convertToInteractive',\n",
              "                                                     [key], {});\n",
              "          if (!dataTable) return;\n",
              "\n",
              "          const docLinkHtml = 'Like what you see? Visit the ' +\n",
              "            '<a target=\"_blank\" href=https://colab.research.google.com/notebooks/data_table.ipynb>data table notebook</a>'\n",
              "            + ' to learn more about interactive tables.';\n",
              "          element.innerHTML = '';\n",
              "          dataTable['output_type'] = 'display_data';\n",
              "          await google.colab.output.renderOutput(dataTable, element);\n",
              "          const docLink = document.createElement('div');\n",
              "          docLink.innerHTML = docLinkHtml;\n",
              "          element.appendChild(docLink);\n",
              "        }\n",
              "      </script>\n",
              "    </div>\n",
              "  </div>\n",
              "  "
            ],
            "text/plain": [
              "         0         1         2         3         4         5\n",
              "0  0.37658  0.973784  0.604716  0.828846  0.574712  0.628076\n",
              "1  0.00000 -0.151627  0.291441  0.229766  0.319255  0.221761\n",
              "2  0.00000  0.000000 -4.393870 -4.350284 -4.964547 -3.828480\n",
              "3  0.00000  0.000000  0.000000 -0.151408  0.434549  0.181008\n",
              "4  0.00000  0.000000  0.000000  0.000000  1.616937  1.012070\n",
              "5  0.00000  0.000000  0.000000  0.000000  0.000000 -0.077152"
            ]
          },
          "execution_count": 161,
          "metadata": {},
          "output_type": "execute_result"
        }
      ],
      "source": [
        "pd.DataFrame(A)"
      ]
    },
    {
      "cell_type": "code",
      "execution_count": null,
      "metadata": {
        "colab": {
          "base_uri": "https://localhost:8080/",
          "height": 238
        },
        "id": "JpQRfx4tmX6F",
        "outputId": "65468a99-ad8c-4319-a1b0-bf472d67964d"
      },
      "outputs": [
        {
          "data": {
            "text/html": [
              "\n",
              "  <div id=\"df-eadfe37e-80ea-4df0-9e95-346b30aab0a8\">\n",
              "    <div class=\"colab-df-container\">\n",
              "      <div>\n",
              "<style scoped>\n",
              "    .dataframe tbody tr th:only-of-type {\n",
              "        vertical-align: middle;\n",
              "    }\n",
              "\n",
              "    .dataframe tbody tr th {\n",
              "        vertical-align: top;\n",
              "    }\n",
              "\n",
              "    .dataframe thead th {\n",
              "        text-align: right;\n",
              "    }\n",
              "</style>\n",
              "<table border=\"1\" class=\"dataframe\">\n",
              "  <thead>\n",
              "    <tr style=\"text-align: right;\">\n",
              "      <th></th>\n",
              "      <th>0</th>\n",
              "    </tr>\n",
              "  </thead>\n",
              "  <tbody>\n",
              "    <tr>\n",
              "      <th>0</th>\n",
              "      <td>0.572489</td>\n",
              "    </tr>\n",
              "    <tr>\n",
              "      <th>1</th>\n",
              "      <td>0.299001</td>\n",
              "    </tr>\n",
              "    <tr>\n",
              "      <th>2</th>\n",
              "      <td>-4.567036</td>\n",
              "    </tr>\n",
              "    <tr>\n",
              "      <th>3</th>\n",
              "      <td>0.202882</td>\n",
              "    </tr>\n",
              "    <tr>\n",
              "      <th>4</th>\n",
              "      <td>0.739567</td>\n",
              "    </tr>\n",
              "    <tr>\n",
              "      <th>5</th>\n",
              "      <td>0.118094</td>\n",
              "    </tr>\n",
              "  </tbody>\n",
              "</table>\n",
              "</div>\n",
              "      <button class=\"colab-df-convert\" onclick=\"convertToInteractive('df-eadfe37e-80ea-4df0-9e95-346b30aab0a8')\"\n",
              "              title=\"Convert this dataframe to an interactive table.\"\n",
              "              style=\"display:none;\">\n",
              "        \n",
              "  <svg xmlns=\"http://www.w3.org/2000/svg\" height=\"24px\"viewBox=\"0 0 24 24\"\n",
              "       width=\"24px\">\n",
              "    <path d=\"M0 0h24v24H0V0z\" fill=\"none\"/>\n",
              "    <path d=\"M18.56 5.44l.94 2.06.94-2.06 2.06-.94-2.06-.94-.94-2.06-.94 2.06-2.06.94zm-11 1L8.5 8.5l.94-2.06 2.06-.94-2.06-.94L8.5 2.5l-.94 2.06-2.06.94zm10 10l.94 2.06.94-2.06 2.06-.94-2.06-.94-.94-2.06-.94 2.06-2.06.94z\"/><path d=\"M17.41 7.96l-1.37-1.37c-.4-.4-.92-.59-1.43-.59-.52 0-1.04.2-1.43.59L10.3 9.45l-7.72 7.72c-.78.78-.78 2.05 0 2.83L4 21.41c.39.39.9.59 1.41.59.51 0 1.02-.2 1.41-.59l7.78-7.78 2.81-2.81c.8-.78.8-2.07 0-2.86zM5.41 20L4 18.59l7.72-7.72 1.47 1.35L5.41 20z\"/>\n",
              "  </svg>\n",
              "      </button>\n",
              "      \n",
              "  <style>\n",
              "    .colab-df-container {\n",
              "      display:flex;\n",
              "      flex-wrap:wrap;\n",
              "      gap: 12px;\n",
              "    }\n",
              "\n",
              "    .colab-df-convert {\n",
              "      background-color: #E8F0FE;\n",
              "      border: none;\n",
              "      border-radius: 50%;\n",
              "      cursor: pointer;\n",
              "      display: none;\n",
              "      fill: #1967D2;\n",
              "      height: 32px;\n",
              "      padding: 0 0 0 0;\n",
              "      width: 32px;\n",
              "    }\n",
              "\n",
              "    .colab-df-convert:hover {\n",
              "      background-color: #E2EBFA;\n",
              "      box-shadow: 0px 1px 2px rgba(60, 64, 67, 0.3), 0px 1px 3px 1px rgba(60, 64, 67, 0.15);\n",
              "      fill: #174EA6;\n",
              "    }\n",
              "\n",
              "    [theme=dark] .colab-df-convert {\n",
              "      background-color: #3B4455;\n",
              "      fill: #D2E3FC;\n",
              "    }\n",
              "\n",
              "    [theme=dark] .colab-df-convert:hover {\n",
              "      background-color: #434B5C;\n",
              "      box-shadow: 0px 1px 3px 1px rgba(0, 0, 0, 0.15);\n",
              "      filter: drop-shadow(0px 1px 2px rgba(0, 0, 0, 0.3));\n",
              "      fill: #FFFFFF;\n",
              "    }\n",
              "  </style>\n",
              "\n",
              "      <script>\n",
              "        const buttonEl =\n",
              "          document.querySelector('#df-eadfe37e-80ea-4df0-9e95-346b30aab0a8 button.colab-df-convert');\n",
              "        buttonEl.style.display =\n",
              "          google.colab.kernel.accessAllowed ? 'block' : 'none';\n",
              "\n",
              "        async function convertToInteractive(key) {\n",
              "          const element = document.querySelector('#df-eadfe37e-80ea-4df0-9e95-346b30aab0a8');\n",
              "          const dataTable =\n",
              "            await google.colab.kernel.invokeFunction('convertToInteractive',\n",
              "                                                     [key], {});\n",
              "          if (!dataTable) return;\n",
              "\n",
              "          const docLinkHtml = 'Like what you see? Visit the ' +\n",
              "            '<a target=\"_blank\" href=https://colab.research.google.com/notebooks/data_table.ipynb>data table notebook</a>'\n",
              "            + ' to learn more about interactive tables.';\n",
              "          element.innerHTML = '';\n",
              "          dataTable['output_type'] = 'display_data';\n",
              "          await google.colab.output.renderOutput(dataTable, element);\n",
              "          const docLink = document.createElement('div');\n",
              "          docLink.innerHTML = docLinkHtml;\n",
              "          element.appendChild(docLink);\n",
              "        }\n",
              "      </script>\n",
              "    </div>\n",
              "  </div>\n",
              "  "
            ],
            "text/plain": [
              "          0\n",
              "0  0.572489\n",
              "1  0.299001\n",
              "2 -4.567036\n",
              "3  0.202882\n",
              "4  0.739567\n",
              "5  0.118094"
            ]
          },
          "execution_count": 162,
          "metadata": {},
          "output_type": "execute_result"
        }
      ],
      "source": [
        "pd.DataFrame(b)"
      ]
    },
    {
      "cell_type": "markdown",
      "metadata": {
        "id": "Jo187JtB_-zC"
      },
      "source": [
        "**16. Agora precisamos determinar as soluções do sistema.**"
      ]
    },
    {
      "cell_type": "code",
      "execution_count": null,
      "metadata": {
        "colab": {
          "base_uri": "https://localhost:8080/"
        },
        "id": "6TjIDrK7_-zC",
        "outputId": "55ed86e5-df44-4e2c-9728-6e9c3620f360"
      },
      "outputs": [
        {
          "name": "stdout",
          "output_type": "stream",
          "text": [
            "4\n",
            "2\n",
            "0\n"
          ]
        },
        {
          "data": {
            "text/plain": [
              "array([ 0.31818795, -0.38773708,  1.1740851 ,  0.07046076,  0.36290187,\n",
              "       -0.61822813])"
            ]
          },
          "execution_count": 153,
          "metadata": {},
          "output_type": "execute_result"
        }
      ],
      "source": [
        "x = np.zeros(6)\n",
        "\n",
        "x[5] = b[5] / A[5, 5]\n",
        "\n",
        "\n",
        "x[4] = (b[4] - A[4,5] * x[5]) / A[4, 4]\n",
        "x[3] = (b[3] - A[3,4] * x[4] - A[3,5] * x[5]) / A[3, 3]\n",
        "\n",
        "# x2\n",
        "x[2] = b[2]\n",
        "for k in range(3, 6):\n",
        "  x[2] = x[2] - A[2,k] * x[k]\n",
        "\n",
        "x[2] = x[2] / A[2, 2]\n",
        "\n",
        "# x1\n",
        "x[1] = b[1]\n",
        "for k in range(2, 6):\n",
        "  x[1] = x[1] - A[1,k] * x[k]\n",
        "\n",
        "x[1] = x[1] / A[1, 1]\n",
        "\n",
        "# x0\n",
        "x[0] = b[0]\n",
        "for k in range(1, 6):\n",
        "  x[0] = x[0] - A[0,k] * x[k]\n",
        "\n",
        "x[0] = x[0] / A[0, 0]\n",
        "x"
      ]
    },
    {
      "cell_type": "code",
      "execution_count": null,
      "metadata": {
        "id": "ylVdgwkEvK7P"
      },
      "outputs": [],
      "source": [
        "x = np.zeros(6)\n",
        "\n",
        "x[5] = b[5] / A[5, 5]\n",
        "\n",
        "for j in range(4, -1, -1):\n",
        "  # xj\n",
        "  x[j] = b[j]\n",
        "  for k in range(j+1, 6):\n",
        "    x[j] = x[j] - A[j,k] * x[k]\n",
        "\n",
        "  x[j] = x[j] / A[j, j]"
      ]
    },
    {
      "cell_type": "code",
      "execution_count": null,
      "metadata": {
        "colab": {
          "base_uri": "https://localhost:8080/"
        },
        "id": "xXxM_RzOsUhQ",
        "outputId": "6084d097-3716-46d4-cc83-b737d2759aca"
      },
      "outputs": [
        {
          "data": {
            "text/plain": [
              "array([0.57248852, 0.73314253, 0.51901163, 0.77088391, 0.56885799,\n",
              "       0.46570988])"
            ]
          },
          "execution_count": 164,
          "metadata": {},
          "output_type": "execute_result"
        }
      ],
      "source": [
        "tA @ x"
      ]
    },
    {
      "cell_type": "code",
      "execution_count": null,
      "metadata": {
        "colab": {
          "base_uri": "https://localhost:8080/"
        },
        "id": "e1AQlYQtujIZ",
        "outputId": "66f06571-841b-4264-bde9-41505bde3738"
      },
      "outputs": [
        {
          "data": {
            "text/plain": [
              "array([[0.57248852],\n",
              "       [0.73314253],\n",
              "       [0.51901163],\n",
              "       [0.77088391],\n",
              "       [0.56885799],\n",
              "       [0.46570988]])"
            ]
          },
          "execution_count": 165,
          "metadata": {},
          "output_type": "execute_result"
        }
      ],
      "source": [
        "tb"
      ]
    },
    {
      "cell_type": "code",
      "execution_count": null,
      "metadata": {
        "colab": {
          "base_uri": "https://localhost:8080/"
        },
        "id": "okDBChyIs7xs",
        "outputId": "29140305-b69b-4022-c8b7-5f50499a7f66"
      },
      "outputs": [
        {
          "data": {
            "text/plain": [
              "21.91792063032234"
            ]
          },
          "execution_count": 134,
          "metadata": {},
          "output_type": "execute_result"
        }
      ],
      "source": [
        "x[2] = b[2]\n",
        "\n",
        "for k in range(3, 6):\n",
        "  x[2] = x[2] - A[2,k] * x[k]\n",
        "\n",
        "x[2] = x[2] / A[2, 2]\n",
        "x[2]"
      ]
    },
    {
      "cell_type": "markdown",
      "metadata": {
        "id": "JlKo4IVF_-zC"
      },
      "source": [
        "**17. Existe uma repetição no código acima, escreva um laço que calcule os valores de x[k] com k variando de 9 até 0.**"
      ]
    },
    {
      "cell_type": "code",
      "execution_count": null,
      "metadata": {
        "id": "mw0nQ7zH_-zC"
      },
      "outputs": [],
      "source": [
        "x[9] = tb[9] / tA[9, 9]\n",
        "\n",
        "for k in range(8, -1, -1):\n",
        "    pass"
      ]
    },
    {
      "cell_type": "code",
      "execution_count": null,
      "metadata": {
        "id": "ejP70uCv_-zC"
      },
      "outputs": [],
      "source": [
        "x"
      ]
    },
    {
      "cell_type": "code",
      "execution_count": null,
      "metadata": {
        "id": "-3mmToJW_-zC"
      },
      "outputs": [],
      "source": [
        "A @ x"
      ]
    },
    {
      "cell_type": "code",
      "execution_count": null,
      "metadata": {
        "id": "5oweCmUS_-zC"
      },
      "outputs": [],
      "source": [
        "b"
      ]
    },
    {
      "cell_type": "markdown",
      "metadata": {
        "id": "vlL-Bwjw_-zC"
      },
      "source": [
        "**18. Escreva uma função que determine as soluções de um sistema com matriz de coeficientes triangular superior**"
      ]
    },
    {
      "cell_type": "code",
      "execution_count": null,
      "metadata": {
        "id": "binOmS01_-zC"
      },
      "outputs": [],
      "source": [
        "def triangular_superior(matriz_coeficientes, termos_independentes):\n",
        "    '''\n",
        "    matriz_coeficientes: matriz triangular superior\n",
        "    termos_independentes: termos independentes do sistema retangular superior\n",
        "    \n",
        "    retorna a solução do sistema\n",
        "    '''\n",
        "    tamanho = len(matriz_coeficientes)\n",
        "    A = np.copy(matriz_coeficientes)\n",
        "    b = np.copy(termos_independentes)\n",
        "    \n",
        "    \n",
        "    x = np.zeros(tamanho)\n",
        "\n",
        "    x[tamanho-1] = b[tamanho-1] / A[tamanho-1, tamanho-1]\n",
        "\n",
        "    for j in range(tamanho-2, -1, -1):\n",
        "      # xj\n",
        "      x[j] = b[j]\n",
        "      for k in range(j+1, tamanho):\n",
        "        x[j] = x[j] - A[j,k] * x[k]\n",
        "\n",
        "      x[j] = x[j] / A[j, j]\n",
        "    \n",
        "    return x"
      ]
    },
    {
      "cell_type": "code",
      "execution_count": null,
      "metadata": {
        "id": "GAhpscWu_-zD"
      },
      "outputs": [],
      "source": [
        "A = np.random.rand(10, 10)\n",
        "b = np.random.rand(10, 1)\n",
        "A[0, 0] = 1e-16\n",
        "tA, tb = eliminacao_gaussiana(A, b)\n",
        "x = triangular_superior(tA, tb)"
      ]
    },
    {
      "cell_type": "code",
      "execution_count": null,
      "metadata": {
        "colab": {
          "base_uri": "https://localhost:8080/"
        },
        "id": "IRu6FjdY_-zD",
        "outputId": "fefaf32a-7fac-4904-a92b-0465cb419bc7"
      },
      "outputs": [
        {
          "data": {
            "text/plain": [
              "array([  0.71131452, -14.16581471,  -1.72781723, -23.95997699,\n",
              "       -41.09378377, -18.15340895,  -0.53363778,  -5.91230034,\n",
              "       -36.46486113,  -2.51926731])"
            ]
          },
          "execution_count": 183,
          "metadata": {},
          "output_type": "execute_result"
        }
      ],
      "source": [
        "A @ x"
      ]
    },
    {
      "cell_type": "code",
      "execution_count": null,
      "metadata": {
        "colab": {
          "base_uri": "https://localhost:8080/"
        },
        "id": "GMq9O4S3_-zD",
        "outputId": "6d2c04f0-17bc-4704-9194-d53296a643d6"
      },
      "outputs": [
        {
          "data": {
            "text/plain": [
              "array([[0.71131452],\n",
              "       [0.55388461],\n",
              "       [0.30451799],\n",
              "       [0.83485405],\n",
              "       [0.43530596],\n",
              "       [0.92345622],\n",
              "       [0.7060518 ],\n",
              "       [0.47803131],\n",
              "       [0.1262101 ],\n",
              "       [0.97604355]])"
            ]
          },
          "execution_count": 184,
          "metadata": {},
          "output_type": "execute_result"
        }
      ],
      "source": [
        "b"
      ]
    },
    {
      "cell_type": "markdown",
      "metadata": {
        "id": "CBFm4lRz_-zD"
      },
      "source": [
        "**19. Combine as funções `eliminação_gaussiana` e `triangular_superior` para resolver um sistema de equações Ax=b com $det(A) \\neq 0$**"
      ]
    },
    {
      "cell_type": "code",
      "execution_count": null,
      "metadata": {
        "id": "DKr4sK1v_-zD"
      },
      "outputs": [],
      "source": [
        "def resolver_sistema(matriz_coeficientes, termos_independentes):\n",
        "    tA, tb = eliminacao_gaussiana(matriz_coeficientes, termos_independentes)\n",
        "    x = triangular_superior(tA, tb)\n",
        "    \n",
        "    return x"
      ]
    },
    {
      "cell_type": "code",
      "execution_count": null,
      "metadata": {
        "id": "QqFMG-iU_-zD"
      },
      "outputs": [],
      "source": [
        "A = np.random.rand(10, 10)\n",
        "b = np.random.rand(10, 1)\n",
        "\n",
        "x = resolver_sistema(A, b)\n"
      ]
    },
    {
      "cell_type": "code",
      "execution_count": null,
      "metadata": {
        "colab": {
          "base_uri": "https://localhost:8080/"
        },
        "id": "-FcnEeGS_-zD",
        "outputId": "f8bcd497-050f-4e55-e050-299dce427b35"
      },
      "outputs": [
        {
          "data": {
            "text/plain": [
              "array([0.78445742, 0.4569657 , 0.65622933, 0.13184098, 0.43298151,\n",
              "       0.90931199, 0.605479  , 0.76677459, 0.50470061, 0.49805562])"
            ]
          },
          "execution_count": 187,
          "metadata": {},
          "output_type": "execute_result"
        }
      ],
      "source": [
        "A @ x"
      ]
    },
    {
      "cell_type": "code",
      "execution_count": null,
      "metadata": {
        "colab": {
          "base_uri": "https://localhost:8080/"
        },
        "id": "_QuPZ6eT_-zD",
        "outputId": "22ca5591-f7cc-4fa5-fbe9-32bb5d64c91c"
      },
      "outputs": [
        {
          "data": {
            "text/plain": [
              "array([[0.78445742],\n",
              "       [0.4569657 ],\n",
              "       [0.65622933],\n",
              "       [0.13184098],\n",
              "       [0.43298151],\n",
              "       [0.90931199],\n",
              "       [0.605479  ],\n",
              "       [0.76677459],\n",
              "       [0.50470061],\n",
              "       [0.49805562]])"
            ]
          },
          "execution_count": 188,
          "metadata": {},
          "output_type": "execute_result"
        }
      ],
      "source": [
        "b"
      ]
    },
    {
      "cell_type": "code",
      "execution_count": null,
      "metadata": {
        "colab": {
          "background_save": true
        },
        "id": "hui8L7lAy0aN",
        "outputId": "16f31d63-df6c-43f4-c9bf-713aeb7c22c2"
      },
      "outputs": [
        {
          "data": {
            "text/plain": [
              "array([[-0.6841543 ],\n",
              "       [ 0.00706757],\n",
              "       [-2.10675158],\n",
              "       [-0.58965077],\n",
              "       [ 0.01130338],\n",
              "       [ 1.16777685],\n",
              "       [ 1.22755891],\n",
              "       [ 0.97888001],\n",
              "       [ 0.06630452],\n",
              "       [ 1.29909078]])"
            ]
          },
          "execution_count": 189,
          "metadata": {},
          "output_type": "execute_result"
        }
      ],
      "source": [
        "np.linalg.solve(A, b)"
      ]
    },
    {
      "cell_type": "code",
      "execution_count": null,
      "metadata": {
        "id": "Qf3d_1vW1kkB"
      },
      "outputs": [],
      "source": []
    }
  ],
  "metadata": {
    "colab": {
      "collapsed_sections": [],
      "provenance": []
    },
    "kernelspec": {
      "display_name": "Python 3",
      "language": "python",
      "name": "python3"
    },
    "language_info": {
      "codemirror_mode": {
        "name": "ipython",
        "version": 3
      },
      "file_extension": ".py",
      "mimetype": "text/x-python",
      "name": "python",
      "nbconvert_exporter": "python",
      "pygments_lexer": "ipython3",
      "version": "3.7.6"
    }
  },
  "nbformat": 4,
  "nbformat_minor": 0
}